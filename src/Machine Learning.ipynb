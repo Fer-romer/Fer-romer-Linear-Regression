{
 "cells": [
  {
   "cell_type": "markdown",
   "metadata": {},
   "source": [
    "# Linear Regression\n",
    "\n",
    "---\n",
    "\n",
    "**Purpose of the Model:**\n",
    "\n",
    "- Used for regression problems, where the goal is to predict a continuous value. For example, predicting the price of a house based on features like size, location, and number of bedrooms. The output is a numerical value.\n",
    "\n",
    "**Type of Output:**\n",
    "\n",
    "- Produces a continuous value as output.\n",
    "\n",
    "**Output Graph:**\n",
    "\n",
    "- The output can be represented as a straight line that best fits the data in a scatter plot.\n",
    "\n",
    "---"
   ]
  },
  {
   "cell_type": "code",
   "execution_count": 1,
   "metadata": {},
   "outputs": [],
   "source": [
    "import pandas as pd\n",
    "import matplotlib.pyplot as plt\n",
    "import seaborn as sns\n",
    "from sklearn.linear_model import LinearRegression\n",
    "from sklearn.metrics import mean_absolute_error, r2_score\n",
    "from sklearn.metrics import root_mean_squared_error\n",
    "import warnings\n",
    "\n",
    "def ignore_warn(*args, **kwargs):\n",
    "    pass\n",
    "warnings.warn = ignore_warn # ignore annoying warning (from sklearn and seaborn)"
   ]
  },
  {
   "cell_type": "markdown",
   "metadata": {},
   "source": [
    "## 1. Decision making: Which is the best dataset?"
   ]
  },
  {
   "cell_type": "markdown",
   "metadata": {},
   "source": [
    ">Note'''For Linear Regression, data should not be normalized. Use the original data, with the only exception being if it can somehow be ensured that after normalization, the mean is 0 and the standard deviation is 1.'''"
   ]
  },
  {
   "cell_type": "code",
   "execution_count": 2,
   "metadata": {},
   "outputs": [],
   "source": [
    "# Train data frames\n",
    "X_train_with_outliers_sel = pd.read_csv('../data/processed/X_train_with_outliers_sel.csv')\n",
    "X_train_without_outliers_sel = pd.read_csv('../data/processed/X_train_without_outliers_sel.csv')\n",
    "'''X_train_with_outliers_norm_sel = pd.read_csv('../data/processed/X_train_with_outliers_norm_sel.csv')\n",
    "X_train_without_outliers_norm_sel = pd.read_csv('../data/processed/X_train_without_outliers_norm_sel.csv')\n",
    "X_train_with_outliers_minmax_sel = pd.read_csv('../data/processed/X_train_with_outliers_minmax_sel.csv')\n",
    "X_train_without_outliers_minmax_sel = pd.read_csv('../data/processed/X_train_without_outliers_minmax_sel.csv')'''\n",
    "y_train = pd.read_csv('../data/processed/y_train.csv')\n",
    "\n",
    "# Test data frames\n",
    "X_test_with_outliers_sel = pd.read_csv('../data/processed/X_test_with_outliers_sel.csv')\n",
    "X_test_without_outliers_sel = pd.read_csv('../data/processed/X_test_without_outliers_sel.csv')\n",
    "'''X_test_with_outliers_norm_sel = pd.read_csv('../data/processed/X_test_with_outliers_norm_sel.csv')\n",
    "X_test_without_outliers_norm_sel = pd.read_csv('../data/processed/X_test_without_outliers_norm_sel.csv')\n",
    "X_test_with_outliers_minmax_sel = pd.read_csv('../data/processed/X_test_with_outliers_minmax_sel.csv')\n",
    "X_test_without_outliers_minmax_sel = pd.read_csv('../data/processed/X_test_without_outliers_minmax_sel.csv')'''\n",
    "y_test = pd.read_csv('../data/processed/y_test.csv')"
   ]
  },
  {
   "cell_type": "code",
   "execution_count": 3,
   "metadata": {},
   "outputs": [
    {
     "data": {
      "text/plain": [
       "[{'index': 0,\n",
       "  'train_df': 'X_train_with_outliers_sel',\n",
       "  'Coefficient': array([[   248.76407134,    -99.69539417,    312.60904469,\n",
       "             534.12087654, -23052.15275173,    237.62514748]]),\n",
       "  'MAE': 4182.353155,\n",
       "  'RMSE': 5957.6088,\n",
       "  'R2_score': 0.806847},\n",
       " {'index': 1,\n",
       "  'train_df': 'X_train_without_outliers_sel',\n",
       "  'Coefficient': array([[   248.661205  ,    -98.59279211,    313.14328388,\n",
       "             533.79891259, -23053.03729685,    237.7777165 ]]),\n",
       "  'MAE': 4183.207908,\n",
       "  'RMSE': 5957.253882,\n",
       "  'R2_score': 0.80687}]"
      ]
     },
     "execution_count": 3,
     "metadata": {},
     "output_type": "execute_result"
    }
   ],
   "source": [
    "train_dicts = {\n",
    "  \"X_train_with_outliers_sel\": X_train_with_outliers_sel,\n",
    "  \"X_train_without_outliers_sel\": X_train_without_outliers_sel,\n",
    " # \"X_train_with_outliers_norm_sel\": X_train_with_outliers_norm_sel,\n",
    "  #\"X_train_without_outliers_norm_sel\": X_train_without_outliers_norm_sel,\n",
    "  #\"X_train_with_outliers_minmax_sel\": X_train_with_outliers_minmax_sel,\n",
    "  #\"X_train_without_outliers_minmax_sel\": X_train_without_outliers_minmax_sel\n",
    "}\n",
    "\n",
    "test_dicts = {\n",
    "  \"X_test_with_outliers_sel\": X_test_with_outliers_sel,\n",
    "  \"X_test_without_outliers_sel\": X_test_without_outliers_sel,\n",
    "#  \"X_test_with_outliers_norm_sel\": X_test_with_outliers_norm_sel,\n",
    "#  \"X_test_without_outliers_norm_sel\": X_test_without_outliers_norm_sel,\n",
    "#  \"X_test_with_outliers_minmax_sel\": X_test_with_outliers_minmax_sel,\n",
    "#  \"X_test_without_outliers_minmax_sel\": X_test_without_outliers_minmax_sel\n",
    "}\n",
    "\n",
    "train_dfs = [\n",
    "  X_train_with_outliers_sel,\n",
    "  X_train_without_outliers_sel,\n",
    "#  X_train_with_outliers_norm_sel,\n",
    "#  X_train_without_outliers_norm_sel,\n",
    "#  X_train_with_outliers_minmax_sel,\n",
    "#  X_train_without_outliers_minmax_sel\n",
    "]\n",
    "test_dfs = [\n",
    "  X_test_with_outliers_sel,\n",
    "  X_test_without_outliers_sel,\n",
    "#  X_test_with_outliers_norm_sel,\n",
    "#  X_test_without_outliers_norm_sel,\n",
    "#  X_test_with_outliers_minmax_sel,\n",
    "#  X_test_without_outliers_minmax_sel\n",
    "]\n",
    "\n",
    "results = []\n",
    "\n",
    "for df_index in range(len(train_dfs)):\n",
    "  model = LinearRegression()\n",
    "  train_df = train_dfs[df_index]\n",
    "  model.fit(train_df, y_train)\n",
    "  y_train_pred = model.predict(train_df)\n",
    "  y_test_pred = model.predict(test_dfs[df_index])\n",
    "\n",
    "  results.append(\n",
    "    {\n",
    "        \"index\": df_index,\n",
    "        \"train_df\": list(train_dicts.keys())[df_index],\n",
    "        \"Coefficient\": model.coef_,\n",
    "        \"MAE\": round(mean_absolute_error(y_test, y_test_pred), 6),\n",
    "        \"RMSE\": round(root_mean_squared_error(y_test, y_test_pred), 6),\n",
    "        \"R2_score\": round(r2_score(y_test, y_test_pred), 6)\n",
    "    }\n",
    "  )\n",
    "\n",
    "resultados = sorted(results, key = lambda x: x[\"RMSE\"], reverse = True)\n",
    "resultados"
   ]
  },
  {
   "cell_type": "code",
   "execution_count": 4,
   "metadata": {},
   "outputs": [
    {
     "name": "stdout",
     "output_type": "stream",
     "text": [
      "The best train dataframe is |X_train_with_outliers_sel|.\n",
      "======================================================      \n",
      "| MAE: 4182.353155   |\n",
      "----------------------\n",
      "| RMSE: 5957.6088    |\n",
      "----------------------\n",
      "| R2_score: 0.806847 |\n",
      "======================\n"
     ]
    }
   ],
   "source": [
    "print (f\"The best train dataframe is |{resultados[0]['train_df']}|.\\n\\\n",
    "======================================================      \\n\\\n",
    "| MAE: {resultados[0]['MAE']}   |\\n\\\n",
    "----------------------\\n\\\n",
    "| RMSE: {resultados[0]['RMSE']}    |\\n\\\n",
    "----------------------\\n\\\n",
    "| R2_score: {resultados[0]['R2_score']} |\\n\\\n",
    "======================\")"
   ]
  },
  {
   "cell_type": "markdown",
   "metadata": {},
   "source": [
    ">Note: In Linear Regression, hyperparameter optimization is not performed."
   ]
  }
 ],
 "metadata": {
  "kernelspec": {
   "display_name": "base",
   "language": "python",
   "name": "python3"
  },
  "language_info": {
   "codemirror_mode": {
    "name": "ipython",
    "version": 3
   },
   "file_extension": ".py",
   "mimetype": "text/x-python",
   "name": "python",
   "nbconvert_exporter": "python",
   "pygments_lexer": "ipython3",
   "version": "3.12.4"
  }
 },
 "nbformat": 4,
 "nbformat_minor": 2
}
